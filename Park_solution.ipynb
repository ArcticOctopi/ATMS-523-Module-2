{
 "cells": [
  {
   "cell_type": "code",
   "execution_count": null,
   "id": "03347a38",
   "metadata": {},
   "outputs": [],
   "source": [
    "from dask.distributed import Client, progress\n",
    "import dask\n",
    "import pandas as pd\n",
    "import fsspec \n",
    "import numpy as np\n",
    "import xarray as xr"
   ]
  },
  {
   "cell_type": "code",
   "execution_count": null,
   "id": "b05c2e5b",
   "metadata": {},
   "outputs": [],
   "source": [
    "# Setting up clients for DASK and Amazon webservices\n",
    "\n",
    "try:\n",
    "    from dask.distributed import get_client\n",
    "    get_client().close()\n",
    "except Exception:\n",
    "    pass\n",
    "\n",
    "client = Client()  # set up local cluster on your laptop\n",
    "client\n",
    "\n",
    "fs = fsspec.filesystem('s3', anon=True)"
   ]
  },
  {
   "cell_type": "code",
   "execution_count": null,
   "id": "e1364d0f",
   "metadata": {},
   "outputs": [],
   "source": [
    "# Setting up the base url to retrieve precipitation files. There are two values of precipitation\n",
    "# in this dataset, large-scale precipitation (lsp) and convective precipitation (cp). To find total precipitation\n",
    "# you must combine the two. There are also multiple files per month, so I set up the framework for each type\n",
    "# of precip per month, and then use fs.glob to find all the relevant files.\n",
    "\n",
    "base_url = 's3://nsf-ncar-era5/e5.oper.fc.sfc.accumu/'\n",
    "base_url2 = '/e5.oper.fc.sfc.accumu.128_'\n",
    "base_url3 = '_*.nc'\n",
    "\n",
    "lsp_tag = '142'\n",
    "cp_tag = '143'\n",
    "\n",
    "center_coords = [47.5, -122.3] # latitude/longitude for Seattle, Wa\n",
    "\n",
    "lat_bounds = [center_coords[0] + 5, center_coords[0] - 5]\n",
    "lon_bounds = [center_coords[1]- 5 + 360, center_coords[1] + 5 + 360]\n",
    "\n",
    "# period of interest\n",
    "pr = pd.date_range(start='1990-01',end='2020-12', freq='MS')\n",
    "\n",
    "lsp_file_list=[]\n",
    "cp_file_list=[]\n",
    "for dt in pr:\n",
    "    \n",
    "    year_month = dt.strftime('%Y%m')\n",
    "\n",
    "    # build glob file names for cp and lsp\n",
    "    \n",
    "    # lsp\n",
    "    single_file=(base_url+year_month+base_url2+lsp_tag+base_url3)\n",
    "    lsp_file_list.append(single_file)\n",
    "\n",
    "    # cp\n",
    "    single_file=(base_url+year_month+base_url2+cp_tag+base_url3)\n",
    "    cp_file_list.append(single_file)"
   ]
  },
  {
   "cell_type": "code",
   "execution_count": null,
   "id": "20fe5303",
   "metadata": {},
   "outputs": [],
   "source": [
    "# using fs.glob to construct the complete file list.\n",
    "lsp_final_list = []\n",
    "cp_final_list = []\n",
    "\n",
    "for file in lsp_file_list:\n",
    "    lsp_final_list = lsp_final_list + fs.glob(file)\n",
    "\n",
    "for file in cp_file_list:\n",
    "    cp_final_list = cp_final_list + fs.glob(file)\n",
    "\n",
    "lsp_final_list = ['s3://' + item for item in lsp_final_list]\n",
    "cp_final_list = ['s3://' + item for item in cp_final_list]"
   ]
  },
  {
   "cell_type": "code",
   "execution_count": null,
   "id": "c1851a81",
   "metadata": {},
   "outputs": [],
   "source": [
    "lsp_ds = xr.open_mfdataset(\n",
    "    #    cached,\n",
    "        lsp_final_list,\n",
    "        combine=\"by_coords\",\n",
    "        engine=\"h5netcdf\",         # or \"h5netcdf\"\n",
    "        chunks={\"time\": 12},      # modest time chunks\n",
    "        parallel=False, \n",
    "        backend_kwargs={\"storage_options\": {\"anon\": True }},\n",
    "        \n",
    ")\n",
    "\n",
    "cp_ds = xr.open_mfdataset(\n",
    "    #    cached,\n",
    "        cp_final_list,\n",
    "        combine=\"by_coords\",\n",
    "        engine=\"h5netcdf\",         # or \"h5netcdf\"\n",
    "        chunks={\"time\": 12},      # modest time chunks\n",
    "        parallel=False, \n",
    "        backend_kwargs={\"storage_options\": {\"anon\": True }},\n",
    ")\n",
    "\n",
    "cp_ds.to_netcdf('Data/cp_seattle_1990-2000.nc')\n",
    "lsp_ds.to_netcdf('Data/lsp_seattle_1990-2000.nc')"
   ]
  },
  {
   "cell_type": "markdown",
   "id": "190db956",
   "metadata": {},
   "source": [
    "Start Here if you've already made datasets"
   ]
  },
  {
   "cell_type": "code",
   "execution_count": null,
   "id": "e202fd79",
   "metadata": {},
   "outputs": [],
   "source": [
    "# Loading convective precip and large scale precip for Seattle\n",
    "lsp_ds = xr.open_dataset(\n",
    "                        'Data/cp_seattle_1990-2020.nc',\n",
    "                         )\n",
    "cp_ds = xr.open_dataset(\n",
    "                        'Data/lsp_seattle_1990-2020.nc',\n",
    "                        )\n",
    "\n",
    "# Loading US total precip\n",
    "\n",
    "US_precip = xr.open_dataset('Data/ERA-5_total_precipitation_monthly-1981-2020.nc')"
   ]
  },
  {
   "cell_type": "code",
   "execution_count": null,
   "id": "14c60d1d",
   "metadata": {},
   "outputs": [],
   "source": [
    "lsp_ds = lsp_ds.stack(time = ('forecast_initial_time', 'forecast_hour'))\n",
    "\n",
    "datetime = []\n",
    "\n",
    "for i, _ in enumerate(lsp_ds['time']):\n",
    "   \n",
    "   datetime.append(lsp_ds['time'].values[i][0] + pd.to_timedelta(lsp_ds['time'].values[i][1], unit = 'h'))\n",
    "\n",
    "\n",
    "\n",
    "lsp_ds = lsp_ds.assign_coords(datetime = ('time', datetime))\n",
    "lsp_ds.swap_dims({'time': 'datetime'})\n"
   ]
  },
  {
   "cell_type": "code",
   "execution_count": 87,
   "id": "d4857f44",
   "metadata": {},
   "outputs": [],
   "source": [
    "lsp_mean = lsp_ds['LSP'].mean(('latitude', 'longitude'))"
   ]
  },
  {
   "cell_type": "code",
   "execution_count": 89,
   "id": "191a3356",
   "metadata": {},
   "outputs": [],
   "source": [
    "lsp_daily_mean = lsp_mean.resample(datetime = 'D').sum()"
   ]
  },
  {
   "cell_type": "code",
   "execution_count": 90,
   "id": "2ecf3ea4",
   "metadata": {},
   "outputs": [
    {
     "data": {
      "text/plain": [
       "[<matplotlib.lines.Line2D at 0x112250d0190>]"
      ]
     },
     "execution_count": 90,
     "metadata": {},
     "output_type": "execute_result"
    },
    {
     "data": {
      "image/png": "[encoded data removed]",
      "text/plain": [
       "<Figure size 640x480 with 1 Axes>"
      ]
     },
     "metadata": {},
     "output_type": "display_data"
    }
   ],
   "source": [
    "lsp_daily_mean.plot()"
   ]
  },
  {
   "cell_type": "code",
   "execution_count": null,
   "id": "f92a80b1",
   "metadata": {},
   "outputs": [],
   "source": []
  }
 ],
 "metadata": {
  "kernelspec": {
   "display_name": "Module2-env",
   "language": "python",
   "name": "python3"
  },
  "language_info": {
   "codemirror_mode": {
    "name": "ipython",
    "version": 3
   },
   "file_extension": ".py",
   "mimetype": "text/x-python",
   "name": "python",
   "nbconvert_exporter": "python",
   "pygments_lexer": "ipython3",
   "version": "3.13.7"
  }
 },
 "nbformat": 4,
 "nbformat_minor": 5
}
