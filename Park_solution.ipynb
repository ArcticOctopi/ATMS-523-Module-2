{
 "cells": [
  {
   "cell_type": "code",
   "execution_count": null,
   "id": "03347a38",
   "metadata": {},
   "outputs": [],
   "source": [
    "from dask.distributed import Client, progress\n",
    "import dask\n",
    "import pandas as pd\n",
    "import fsspec \n",
    "import numpy as np\n",
    "import xarray as xr"
   ]
  },
  {
   "cell_type": "code",
   "execution_count": null,
   "id": "b05c2e5b",
   "metadata": {},
   "outputs": [],
   "source": [
    "# Setting up clients for DASK and Amazon webservices\n",
    "\n",
    "try:\n",
    "    from dask.distributed import get_client\n",
    "    get_client().close()\n",
    "except Exception:\n",
    "    pass\n",
    "\n",
    "client = Client()  # set up local cluster on your laptop\n",
    "client\n",
    "\n",
    "fs = fsspec.filesystem('s3', anon=True)"
   ]
  },
  {
   "cell_type": "code",
   "execution_count": null,
   "id": "e1364d0f",
   "metadata": {},
   "outputs": [],
   "source": [
    "# Setting up the base url to retrieve precipitation files. There are two values of precipitation\n",
    "# in this dataset, large-scale precipitation (lsp) and convective precipitation (cp). To find total precipitation\n",
    "# you must combine the two. There are also multiple files per month, so I set up the framework for each type\n",
    "# of precip per month, and then use fs.glob to find all the relevant files.\n",
    "\n",
    "base_url = 's3://nsf-ncar-era5/e5.oper.fc.sfc.accumu/'\n",
    "base_url2 = '/e5.oper.fc.sfc.accumu.128_'\n",
    "base_url3 = '_*.nc'\n",
    "\n",
    "lsp_tag = '142'\n",
    "cp_tag = '143'\n",
    "\n",
    "center_coords = [47.5, -122.3] # latitude/longitude for Seattle, Wa\n",
    "\n",
    "lat_bounds = [center_coords[0] + 5, center_coords[0] - 5]\n",
    "lon_bounds = [center_coords[1]- 5 + 360, center_coords[1] + 5 + 360]\n",
    "\n",
    "# period of interest\n",
    "pr = pd.date_range(start='1990-01',end='2020-12', freq='MS')\n",
    "\n",
    "lsp_file_list=[]\n",
    "cp_file_list=[]\n",
    "for dt in pr:\n",
    "    \n",
    "    year_month = dt.strftime('%Y%m')\n",
    "\n",
    "    # build glob file names for cp and lsp\n",
    "    \n",
    "    # lsp\n",
    "    single_file=(base_url+year_month+base_url2+lsp_tag+base_url3)\n",
    "    lsp_file_list.append(single_file)\n",
    "\n",
    "    # cp\n",
    "    single_file=(base_url+year_month+base_url2+cp_tag+base_url3)\n",
    "    cp_file_list.append(single_file)"
   ]
  },
  {
   "cell_type": "code",
   "execution_count": null,
   "id": "20fe5303",
   "metadata": {},
   "outputs": [],
   "source": [
    "# using fs.glob to construct the complete file list.\n",
    "lsp_final_list = []\n",
    "cp_final_list = []\n",
    "\n",
    "for file in lsp_file_list:\n",
    "    lsp_final_list = lsp_final_list + fs.glob(file)\n",
    "\n",
    "for file in cp_file_list:\n",
    "    cp_final_list = cp_final_list + fs.glob(file)\n",
    "\n",
    "lsp_final_list = ['s3://' + item for item in lsp_final_list]\n",
    "cp_final_list = ['s3://' + item for item in cp_final_list]"
   ]
  },
  {
   "cell_type": "code",
   "execution_count": null,
   "id": "c1851a81",
   "metadata": {},
   "outputs": [],
   "source": [
    "first = True\n",
    "for link in lsp_final_list:\n",
    "  if first:\n",
    "    ds = xr.open_dataset(\n",
    "    #    cached,\n",
    "        link,\n",
    "        engine=\"h5netcdf\",         # or \"h5netcdf\"\n",
    "        chunks={\"time\": 12},      # modest time chunks\n",
    "        backend_kwargs={\"storage_options\": {\"anon\": True }},\n",
    "    )\n",
    "    ds = ds.sel(latitude = slice(lat_bounds[0], lat_bounds[1]), longitude = slice(lon_bounds[0], lon_bounds[1]))\n",
    "    first = False\n",
    "  else:\n",
    "    append_ds = xr.open_dataset(\n",
    "    #    cached,\n",
    "        link,\n",
    "        engine=\"h5netcdf\",         # or \"h5netcdf\"\n",
    "        chunks={\"time\": 12},      # modest time chunks\n",
    "        backend_kwargs={\"storage_options\": {\"anon\": True }},\n",
    "    )\n",
    "\n",
    "    append_ds = append_ds.sel(latitude = slice(lat_bounds[0], lat_bounds[1]), longitude = slice(lon_bounds[0], lon_bounds[1]))\n",
    "\n",
    "    ds = xr.concat([ds, append_ds], dim = 'forecast_initial_time')\n"
   ]
  },
  {
   "cell_type": "code",
   "execution_count": null,
   "id": "243f0b3e",
   "metadata": {},
   "outputs": [],
   "source": [
    "\n",
    "ds = xr.open_dataset(\n",
    "  #    cached,\n",
    "      lsp_final_list[0],\n",
    "      engine=\"h5netcdf\",         # or \"h5netcdf\"\n",
    "      chunks={\"time\": 12},      # modest time chunks\n",
    "      parallel=False,           # <- important: don't delay opens\n",
    "      backend_kwargs={\"storage_options\": {\"anon\": True }},\n",
    ")"
   ]
  },
  {
   "cell_type": "code",
   "execution_count": null,
   "id": "e202fd79",
   "metadata": {},
   "outputs": [],
   "source": [
    "ds.sel(latitude = slice(lat_bounds[0], lat_bounds[1]), longitude = slice(lon_bounds[0], lon_bounds[1]))"
   ]
  },
  {
   "cell_type": "code",
   "execution_count": null,
   "id": "14c60d1d",
   "metadata": {},
   "outputs": [],
   "source": []
  }
 ],
 "metadata": {
  "kernelspec": {
   "display_name": "Module2-env",
   "language": "python",
   "name": "python3"
  },
  "language_info": {
   "codemirror_mode": {
    "name": "ipython",
    "version": 3
   },
   "file_extension": ".py",
   "mimetype": "text/x-python",
   "name": "python",
   "nbconvert_exporter": "python",
   "pygments_lexer": "ipython3",
   "version": "3.13.7"
  }
 },
 "nbformat": 4,
 "nbformat_minor": 5
}
